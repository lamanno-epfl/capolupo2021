{
 "cells": [
  {
   "cell_type": "code",
   "execution_count": 1,
   "metadata": {},
   "outputs": [],
   "source": [
    "import numpy as np\n",
    "import pandas as pd\n",
    "import loompy\n",
    "import matplotlib.pyplot as plt\n",
    "from threadpoolctl import threadpool_limits, threadpool_info\n",
    "import pickle\n",
    "import yaml\n",
    "from custom_functions import ixs_thatsort_a2b\n",
    "\n",
    "threadpool_limits(limits=16)\n",
    "plt.rcParams['pdf.fonttype'] = 42"
   ]
  },
  {
   "cell_type": "code",
   "execution_count": 2,
   "metadata": {},
   "outputs": [],
   "source": [
    "# First load the signatures extracted in previous studies \n",
    "signatures = pd.read_excel(\"signaturesFGF-TGF.xlsx\")\n",
    "tgfb_up = signatures[\"TGFB_UP\"].dropna().values\n",
    "tgfb_down = signatures[\"TGFB_DOWN\"].dropna().values\n",
    "fgf2_up = signatures[\"FGF2_UP\"].dropna().values\n",
    "fgf2_down = signatures[\"FGF2_DOWN\"].dropna().values\n",
    "\n",
    "# Make a dictionary to collect the signatures\n",
    "signatures = {\"tgfb_up\": tgfb_up, \"tgfb_down\": tgfb_down, \"fgf2_up\": fgf2_up, \"fgf2_down\":fgf2_down}"
   ]
  },
  {
   "cell_type": "markdown",
   "metadata": {},
   "source": [
    "# Analysis of the toxin-FACS data"
   ]
  },
  {
   "cell_type": "code",
   "execution_count": 3,
   "metadata": {
    "Collapsed": "false"
   },
   "outputs": [],
   "source": [
    "# Load the bulk data on toxin-FACS sorted populations\n",
    "dsbulk = loompy.connect(\"fibroblasts_sorted_bulk_RNAseq.loom\")"
   ]
  },
  {
   "cell_type": "code",
   "execution_count": 4,
   "metadata": {
    "Collapsed": "false"
   },
   "outputs": [],
   "source": [
    "# Boilerplate to have the data better organized\n",
    "\n",
    "group_samples = {'1CRL':\"CRL\", '1ChTx':\"ChTx\", '1ChTxShTx1ShTx2':\"ChTxShTx1ShTx2\",\n",
    "                 '1ShTx1ShTx2':\"ShTx1ShTx2\", '2CRL':\"CRL\", '2ChTx':\"ChTx\",\n",
    "                 '2ChTxShTx1ShTx2':\"ChTxShTx1ShTx2\", '2ShTx1ShTx2':\"ShTx1ShTx2\",\n",
    "                 '2ShTx2':\"ShTx2\", '3ChTxShTx1ShTx2':\"ChTxShTx1ShTx2\",\n",
    "                 '3ShTx1ShTx2':\"ShTx1ShTx2\"}\n",
    "sample_names = dsbulk.ca['sample']\n",
    "samples_grouped = np.array([group_samples[i] for i in sample_names])\n",
    "unique_populations, ix_populations = np.unique(samples_grouped, return_inverse=True)"
   ]
  },
  {
   "cell_type": "markdown",
   "metadata": {},
   "source": [
    "## Preliminary procedures"
   ]
  },
  {
   "cell_type": "code",
   "execution_count": 5,
   "metadata": {
    "Collapsed": "false"
   },
   "outputs": [],
   "source": [
    "# Equalize sample design by random sampling\n",
    "np.random.seed(19900715)\n",
    "p = np.array([1 / np.sum(ix_populations == i)/len(ix_populations) for i in ix_populations])\n",
    "ix_adj = np.random.choice(np.arange(len(sample_names)), size=100, p=p/p.sum())"
   ]
  },
  {
   "cell_type": "code",
   "execution_count": 6,
   "metadata": {
    "Collapsed": "false"
   },
   "outputs": [],
   "source": [
    "# Performe a very mild feature filtering\n",
    "all_bulk = dsbulk[:,:]\n",
    "boolf = (all_bulk[:, ix_adj] > 0).sum(1) > 0 \n",
    "boolf = (all_bulk[:, ix_adj]).mean(1) > 1.5\n",
    "boolf = (all_bulk[:, ix_adj] > 8).mean(1) > 0.15\n",
    "all_bulk = all_bulk[boolf, :] \n",
    "all_genes = dsbulk.ra.Accession[boolf]"
   ]
  },
  {
   "cell_type": "markdown",
   "metadata": {},
   "source": [
    "## Normalization"
   ]
  },
  {
   "cell_type": "code",
   "execution_count": 7,
   "metadata": {
    "Collapsed": "false"
   },
   "outputs": [],
   "source": [
    "col_sums = all_bulk.sum(0)\n",
    "bulk_sz = all_bulk / col_sums * np.mean(col_sums)\n",
    "bulk_sz = bulk_sz + 1\n",
    "bulk_pm = bulk_sz * 1e6 / bulk_sz.sum(0).mean()\n",
    "bulk_norm = np.log2(bulk_pm)"
   ]
  },
  {
   "cell_type": "code",
   "execution_count": 8,
   "metadata": {
    "Collapsed": "false"
   },
   "outputs": [],
   "source": [
    "# Boilerplate - Sort the data in a convenient way\n",
    "ii = ixs_thatsort_a2b(sample_names,\n",
    "                      np.array(['1CRL', '2CRL', '1ChTx', '2ChTx', '2ShTx2', '3ChTxShTx1ShTx2','1ChTxShTx1ShTx2',\n",
    "                                '2ChTxShTx1ShTx2',  '3ShTx1ShTx2', '2ShTx1ShTx2', '1ShTx1ShTx2'], dtype=object))"
   ]
  },
  {
   "cell_type": "code",
   "execution_count": 10,
   "metadata": {
    "Collapsed": "false"
   },
   "outputs": [],
   "source": [
    "## Aggregate by sample\n",
    "\n",
    "bulk_sz = all_bulk / col_sums * np.mean(col_sums)\n",
    "\n",
    "# Initialize empty Matrices\n",
    "bulk_sz_agg = np.zeros((bulk_pm.shape[0], np.unique(ix_populations).shape[0]))\n",
    "bulk_sz_rest_balanced = np.zeros((bulk_pm.shape[0], np.unique(ix_populations).shape[0]-1))\n",
    "\n",
    "for i in np.unique(ix_populations):\n",
    "    bulk_sz_agg[:,i] = bulk_sz[:, ix_populations == i].mean(1)\n",
    "    \n",
    "for i in range(len(np.unique(ix_populations))-1):\n",
    "    bulk_sz_rest_balanced[:, i] = bulk_sz_agg[:, ~np.in1d(np.arange(bulk_sz_agg.shape[1]), [0, i+1])].mean(1)\n",
    "\n",
    "bulk_pm_agg = bulk_sz_agg * 1e6 / bulk_sz_agg.sum(0).mean()\n",
    "bulk_pm_agg += 1\n",
    "\n",
    "bulk_pm_rest_balanced = bulk_sz_rest_balanced * 1e6 / bulk_sz_rest_balanced.sum(0).mean()\n",
    "bulk_pm_rest_balanced += 1"
   ]
  },
  {
   "cell_type": "code",
   "execution_count": 11,
   "metadata": {
    "Collapsed": "false"
   },
   "outputs": [],
   "source": [
    "# Reorder and log\n",
    "order_wanted = np.array(['CRL', 'ChTx', 'ShTx2', 'ChTxShTx1ShTx2', 'ShTx1ShTx2'])\n",
    "ixes = ixs_thatsort_a2b(unique_populations, order_wanted)\n",
    "ixesb = ixs_thatsort_a2b(unique_populations[1:], order_wanted[1:])\n",
    "sort_bulk_pm_agg = bulk_pm_agg[:, ixes]\n",
    "bulk_pm_rest_balanced = bulk_pm_rest_balanced[:, ixesb]\n",
    "sort_bulk_norm_agg = np.log2(sort_bulk_pm_agg)\n",
    "sort_bulk_norm_balanced = np.log2(bulk_pm_rest_balanced)"
   ]
  },
  {
   "cell_type": "code",
   "execution_count": 12,
   "metadata": {
    "Collapsed": "false"
   },
   "outputs": [],
   "source": [
    "# Get ENSBL -> gene_list conversion\n",
    "\n",
    "# mysql  --user=genome --host=genome-mysql.cse.ucsc.edu -A -D hg19 -e \"select distinct G.gene,N.value from ensGtp as G, ensemblToGeneName as N where G.transcript=N.name;\" > ENS_genename.txt"
   ]
  },
  {
   "cell_type": "code",
   "execution_count": 13,
   "metadata": {
    "Collapsed": "false"
   },
   "outputs": [],
   "source": [
    "df = pd.read_table(\"ENS_genename.txt\")\n",
    "ENS_sym = dict(zip(df.gene.values, df.value.values))"
   ]
  },
  {
   "cell_type": "code",
   "execution_count": 14,
   "metadata": {},
   "outputs": [],
   "source": [
    "for i, pop_name in enumerate(order_wanted[1:]):\n",
    "    obs = sort_bulk_norm_agg[:, i+1]\n",
    "    rest = sort_bulk_norm_balanced[:, i]\n",
    "    # consider only moderatelly expressed in at least one of the datasets\n",
    "    filter1_ix = np.where(np.maximum(obs, rest) > 4.0)[0]\n",
    "    obs = obs[filter1_ix]\n",
    "    rest = rest[filter1_ix]\n",
    "    filter2_ix = np.argsort(rest - obs)[:350]\n",
    "    ixs = filter1_ix[filter2_ix]\n",
    "    signatures[f\"{pop_name}\"] = np.array([ENS_sym[ens_id] if ens_id in ENS_sym else ens_id for ens_id in all_genes[ixs]])"
   ]
  },
  {
   "cell_type": "markdown",
   "metadata": {},
   "source": [
    "# Save all signatures to file"
   ]
  },
  {
   "cell_type": "code",
   "execution_count": 16,
   "metadata": {},
   "outputs": [],
   "source": [
    "pickle.dump(signatures, open(\"all_signatures.picke\", \"wb\"))"
   ]
  },
  {
   "cell_type": "markdown",
   "metadata": {},
   "source": [
    "# Plot a simple visualization"
   ]
  },
  {
   "cell_type": "code",
   "execution_count": 17,
   "metadata": {},
   "outputs": [],
   "source": [
    "signature_names = [\"ChTx\", 'ChTxShTx1ShTx2', 'ShTx1ShTx2', 'ShTx2']\n",
    "genes_to_show = np.concatenate([signatures[k][:8] for k in signature_names])\n",
    "genes_to_show[-6:] = signatures[\"ShTx2\"][3:9] # Do not plot ENSG00000280356, has no gene symbol, it is putative\n",
    "all_genes_symbols = [ENS_sym[i] if i in ENS_sym else i for i in all_genes ]"
   ]
  },
  {
   "cell_type": "code",
   "execution_count": 18,
   "metadata": {},
   "outputs": [],
   "source": [
    "ixes = np.array([all_genes_symbols.index(i) for i in genes_to_show])\n",
    "values = bulk_pm_agg[:, 1:] - 1"
   ]
  },
  {
   "cell_type": "code",
   "execution_count": 19,
   "metadata": {},
   "outputs": [
    {
     "data": {
      "image/png": "[encoded data removed]",
      "text/plain": [
       "<Figure size 576x576 with 1 Axes>"
      ]
     },
     "metadata": {
      "needs_background": "light"
     },
     "output_type": "display_data"
    }
   ],
   "source": [
    "plt.figure(None, (8,8))\n",
    "plt.imshow((values[ixes, :] / values[ixes, :].max(1)[:,None]).T, aspect=3, vmin=0, cmap=plt.cm.cividis)\n",
    "plt.xticks(np.arange(len(ixes)), genes_to_show, fontsize=14, rotation=90);\n",
    "plt.yticks(np.arange(len(signature_names)), signature_names, fontsize=21);\n",
    "plt.gca().xaxis.tick_top()"
   ]
  },
  {
   "cell_type": "code",
   "execution_count": null,
   "metadata": {},
   "outputs": [],
   "source": []
  }
 ],
 "metadata": {
  "kernelspec": {
   "display_name": "env=newly",
   "language": "python",
   "name": "py-newly-env"
  },
  "language_info": {
   "codemirror_mode": {
    "name": "ipython",
    "version": 3
   },
   "file_extension": ".py",
   "mimetype": "text/x-python",
   "name": "python",
   "nbconvert_exporter": "python",
   "pygments_lexer": "ipython3",
   "version": "3.8.1"
  }
 },
 "nbformat": 4,
 "nbformat_minor": 4
}
